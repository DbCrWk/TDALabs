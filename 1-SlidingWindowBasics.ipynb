{
 "cells": [
  {
   "cell_type": "markdown",
   "metadata": {},
   "source": [
    "<h1>Geometry of Sliding Window Embeddings</h1><BR>\n",
    "In this module, you will interactively explore how various parameters of sliding window embeddings of 1 dimensional periodic time series data affects the geometry of their embeddings.  Click the play button on the boxes one at a time in order to progress through the module.  This first box imports all of the necessary Python packages to run the code in this module, and there will be a similar box at the beginning of every module in this series."
   ]
  },
  {
   "cell_type": "code",
   "execution_count": null,
   "metadata": {
    "collapsed": true
   },
   "outputs": [],
   "source": [
    "#Do all of the imports and setup inline plotting\n",
    "%matplotlib notebook\n",
    "import numpy as np\n",
    "import matplotlib.pyplot as plt\n",
    "from sklearn.decomposition import PCA\n",
    "from mpl_toolkits.mplot3d import Axes3D\n",
    "import scipy.interpolate as interp\n",
    "\n",
    "from TDA import *"
   ]
  },
  {
   "cell_type": "markdown",
   "metadata": {},
   "source": [
    "<h1>Pure Sinusoid Sliding Window</h1><BR>\n",
    "In this first experiment, you will alter the extent of the sliding window of a pure sinusoid and examine how the geometry changes.  First, setup and plot a pure sinusoid in numpy"
   ]
  },
  {
   "cell_type": "code",
   "execution_count": null,
   "metadata": {
    "collapsed": false,
    "scrolled": false
   },
   "outputs": [],
   "source": [
    "#Step 1: Setup the signal\n",
    "T = 40 #The period in number of samples\n",
    "NPeriods = 4 #How many periods to go through\n",
    "N = T*NPeriods #The total number of samples\n",
    "t = np.linspace(0, 2*np.pi*NPeriods, N+1)[0:N] #Sampling indices in time\n",
    "x = np.cos(t) #The final signal\n",
    "plt.plot(x)"
   ]
  },
  {
   "cell_type": "markdown",
   "metadata": {},
   "source": [
    "<h2>Sliding Window Code</h2><BR>\n",
    "The code below performs a sliding window embedding on a 1D signal.  The parameters are as follows:\n",
    "<table>\n",
    "<tr><td>$$x$$</td><td>The 1D signal (numpy array)</td></tr>\n",
    "<tr><td><code>dim</code></td><td>The dimension of the embedding</td></tr>\n",
    "<tr><td>$$\\tau$$</td><td>The amount to skip between each delay</td></tr>\n",
    "<tr><td><code>dT</code></td><td>The time interval between each sliding window sample</td></tr>\n",
    "</table><BR>\n",
    "Spline interpolation is used to fill in information between signal samples, which is necessary for certain combinations of parameters, such as a non-integer Tau or dT."
   ]
  },
  {
   "cell_type": "code",
   "execution_count": null,
   "metadata": {
    "collapsed": true
   },
   "outputs": [],
   "source": [
    "def getSlidingWindow(x, dim, Tau, dT):\n",
    "    N = len(x)\n",
    "    NWindows = int(np.floor((N-dim*Tau)/dT)) #The number of windows\n",
    "    if NWindows <= 0:\n",
    "        print(\"Error: Tau too large for signal extent\")\n",
    "        return np.zeros((3, dim))\n",
    "    X = np.zeros((NWindows, dim)) #Create a 2D array which will store all windows\n",
    "    idx = np.arange(N)\n",
    "    for i in range(NWindows):\n",
    "        #Figure out the indices of the samples in this window\n",
    "        idxx = dT*i + Tau*np.arange(dim) \n",
    "        start = int(np.floor(idxx[0]))\n",
    "        end = int(np.ceil(idxx[-1]))+2\n",
    "        if end >= len(x):\n",
    "            X = X[0:i, :]\n",
    "            break\n",
    "        #Do spline interpolation to fill in this window, and place\n",
    "        #it in the resulting array\n",
    "        X[i, :] = interp.spline(idx[start:end+1], x[start:end+1], idxx)\n",
    "    return X"
   ]
  },
  {
   "cell_type": "markdown",
   "metadata": {},
   "source": [
    "<h2>Sliding Window Result</h2><BR>\n",
    "We will now perform a sliding window embedding with various choices of parameters.  <a href = \"https://en.wikipedia.org/wiki/Principal_component_analysis\">Principal component analysis</a> will be performed to project the result down to 2D for visualization.  When the code runs, it will print the first two eigenvalues of PCA.  The closer these eigenvalues are to each other, the rounder and more close to a circle the embedding is.  You should play around with the parameters of the sliding window embedding and examine the result.  A red vertical line will be drawn to show the product of Tau and the dimension, or \"extent\" (window length)"
   ]
  },
  {
   "cell_type": "code",
   "execution_count": null,
   "metadata": {
    "collapsed": false,
    "scrolled": true
   },
   "outputs": [],
   "source": [
    "#Step 2: Do a sliding window embedding\n",
    "dim = 20\n",
    "Tau = 1\n",
    "dT = 0.5\n",
    "X = getSlidingWindow(x, dim, Tau, dT)\n",
    "extent = Tau*dim\n",
    "\n",
    "#Step 3: Perform PCA down to 2D for visualization\n",
    "pca = PCA(n_components = 2)\n",
    "Y = pca.fit_transform(X)\n",
    "eigs = pca.explained_variance_\n",
    "print(\"\\n\\nlambda1 = %g\\nlambda2 = %g\\n\\n\"%(eigs[0], eigs[1]))\n",
    "\n",
    "#Step 4: Plot original signal and PCA of the embedding\n",
    "plt.figure(figsize=(12, 6))\n",
    "ax = plt.subplot(121)\n",
    "ax.plot(x)\n",
    "ax.set_ylim((-2, 2))\n",
    "ax.set_title(\"Original Signal\")\n",
    "ax.set_xlabel(\"Sample Number\")\n",
    "#ax.hold(True)\n",
    "ax.plot([extent, extent], [np.min(x), np.max(x)], 'r')\n",
    "ax2 = plt.subplot(122)\n",
    "ax2.set_title(\"PCA of Sliding Window Embedding\")\n",
    "ax2.scatter(Y[:, 0], Y[:, 1])\n",
    "ax2.set_aspect('equal', 'datalim')\n",
    "plt.show()"
   ]
  },
  {
   "cell_type": "markdown",
   "metadata": {},
   "source": [
    "<h1>Non-Periodic Signal Sliding Window</h1><BR>\n",
    "For a contrasting example, we will now examine the sliding window embedding of a non-periodic signal which is a ramp function plus Gaussian noise.  The code below sets up the signal and then does the sliding window embedding, as before.  But notice how changing the window extent doesn't have the same impact.  Why might this be?"
   ]
  },
  {
   "cell_type": "code",
   "execution_count": null,
   "metadata": {
    "collapsed": false
   },
   "outputs": [],
   "source": [
    "x = np.arange(400)\n",
    "x = x/float(len(x))\n",
    "x = x + 0.05*np.random.randn(len(x)) #Add some noise\n",
    "\n",
    "#Step 2: Do a sliding window embedding\n",
    "dim = 20\n",
    "Tau = 1\n",
    "dT = 0.5\n",
    "X = getSlidingWindow(x, dim, Tau, dT)\n",
    "extent = Tau*dim\n",
    "\n",
    "#Step 3: Perform PCA down to 2D for visualization\n",
    "pca = PCA(n_components = dim)\n",
    "Y = pca.fit_transform(X)\n",
    "eigs = pca.explained_variance_\n",
    "print(\"lambda1 = %g, lambda2 = %g\"%(eigs[0], eigs[1]))\n",
    "\n",
    "#Step 4: Plot original signal and PCA of the embedding\n",
    "plt.figure(figsize=(12, 6))\n",
    "ax = plt.subplot(121)\n",
    "ax.plot(x)\n",
    "ax.set_ylim((-2, 2))\n",
    "ax.set_title(\"Original Signal\")\n",
    "ax.set_xlabel(\"Sample Number\")\n",
    "#ax.hold(True)\n",
    "ax.plot([extent, extent], [np.min(x), np.max(x)], 'r')\n",
    "ax2 = plt.subplot(122)\n",
    "ax2.set_title(\"PCA of Sliding Window Embedding\")\n",
    "ax2.scatter(Y[:, 0], Y[:, 1])\n",
    "ax2.set_aspect('equal', 'datalim')\n",
    "plt.show()"
   ]
  },
  {
   "cell_type": "markdown",
   "metadata": {
    "collapsed": true
   },
   "source": [
    "<h1>2 Sines Sliding Window</h1><BR>\n",
    "We will now go back to periodic signals, but this time we will increase the complexity by adding two sines together.  If the ratio between the two sinusoids is a rational number, then they are called <i>harmonics</i> of each other.  By contrast, if the two frequencies are linearly independent over the rational numbers, then the sinusoids are called <i>incommensurate</i>.  The example below starts with \n",
    "\n",
    "$$f(t) = \\sin(\\omega t) + \\sin(3\\omega t)$$\n",
    "\n",
    "which is an example of the harmonic case.  First generate the signal and then do the embedding, as above.  This time, the first 10 eigenvalues of PCA will be plotted, in addition to the red line showing the extent of the window.  Also, 3D PCA will be displayed instead of 2D PCA, and you can click and drag your mouse to view it from different angles.  Colors will be drawn to indicate the position of the window in time, with cool colors indicating earlier windows and hot colors indicating later windows (using the \"jet\" colormap).\n",
    "\n",
    "<BR>In addition to varying the window size, do an example of both harmonic sinusoids and non-commensurate sinusoids.  What do the differences seem to be between the two cases?<BR>\n",
    "\n",
    "<i>Hint: For the non-commensurate case, it might help to use the command</i> <code>np.pi</code>"
   ]
  },
  {
   "cell_type": "code",
   "execution_count": null,
   "metadata": {
    "collapsed": false,
    "scrolled": true
   },
   "outputs": [],
   "source": [
    "#Step 1: Setup the signal\n",
    "T1 = 20 #The period of the first sine in number of samples\n",
    "T2 = T1*3 #The period of the second sine in number of samples\n",
    "NPeriods = 10 #How many periods to go through, relative to the second sinusoid\n",
    "N = T2*NPeriods #The total number of samples\n",
    "t = np.arange(N) #Time indices\n",
    "x = np.cos(2*np.pi*(1.0/T1)*t) #The first sinusoid\n",
    "x += np.cos(2*np.pi*(1.0/T2)*t) #The second sinusoid\n",
    "\n",
    "\n",
    "#Step 2: Do a sliding window embedding\n",
    "dim = 20\n",
    "Tau = 1\n",
    "dT = 0.5\n",
    "X = getSlidingWindow(x, dim, Tau, dT)\n",
    "extent = Tau*dim\n",
    "\n",
    "#Step 3: Perform PCA down to 2D for visualization\n",
    "pca = PCA(n_components = 10)\n",
    "Y = pca.fit_transform(X)\n",
    "eigs = pca.explained_variance_\n",
    "\n",
    "#Step 4: Plot original signal and PCA of the embedding\n",
    "fig = plt.figure(figsize=(12, 12))\n",
    "ax = fig.add_subplot(221)\n",
    "ax.plot(x)\n",
    "#ax.hold(True)\n",
    "ax.plot([extent, extent], [np.min(x), np.max(x)], 'r')\n",
    "ax.set_title(\"Original Signal\")\n",
    "ax.set_xlabel(\"Sample Number\")\n",
    "\n",
    "c = plt.get_cmap('jet')\n",
    "C = c(np.array(np.round(np.linspace(0, 255, Y.shape[0])), dtype=np.int32))\n",
    "C = C[:, 0:3]\n",
    "ax2 = fig.add_subplot(222, projection = '3d')\n",
    "ax2.set_title(\"PCA of Sliding Window Embedding\")\n",
    "ax2.scatter(Y[:, 0], Y[:, 1], Y[:, 2], c=C)\n",
    "ax2.set_aspect('equal', 'datalim')\n",
    "\n",
    "ax3 = plt.subplot(2, 2, 3)\n",
    "eigs = eigs[0:min(len(eigs), 10)]\n",
    "ax3.bar(np.arange(len(eigs)), eigs)\n",
    "ax3.set_xlabel(\"Eigenvalue Number\")\n",
    "ax3.set_ylabel(\"Eigenvalue\")\n",
    "ax3.set_title(\"PCA Eigenvalues\")\n",
    "\n",
    "plt.show()"
   ]
  },
  {
   "cell_type": "markdown",
   "metadata": {},
   "source": [
    "<h2>Power Spectrum</h2><BR>\n",
    "\n",
    "We saw above that for a rather subtle change in frequency changing the second sinusoid from harmonic to noncommensurate, there is a marked change in the geometry.  By contrast, the power spectral density functions are very close between the two, as shown below.  Hence, it appears that geometric tools are more appropriate for telling the difference between these two types of signals"
   ]
  },
  {
   "cell_type": "code",
   "execution_count": null,
   "metadata": {
    "collapsed": false
   },
   "outputs": [],
   "source": [
    "T = 20 #The period of the first sine in number of samples\n",
    "NPeriods = 10 #How many periods to go through, relative to the faster sinusoid\n",
    "N = T*NPeriods*3 #The total number of samples\n",
    "t = np.arange(N) #Time indices\n",
    "\n",
    "#Make the harmonic signal cos(t) + cos(3t)\n",
    "xH = np.cos(2*np.pi*(1.0/T)*t) + np.cos(2*np.pi*(1.0/(3*T)*t))\n",
    "                                        \n",
    "#Make the incommensurate signal cos(t) + cos(pi*t)\n",
    "xNC = np.cos(2*np.pi*(1.0/T)*t) + np.cos(2*np.pi*(1.0/(np.pi*T)*t))\n",
    "\n",
    "plt.figure()\n",
    "P1 = np.abs(np.fft.fft(xH))**2\n",
    "P2 = np.abs(np.fft.fft(xNC))**2\n",
    "plt.plot(np.arange(len(P1)), P1)\n",
    "#plt.hold(True)\n",
    "plt.plot(np.arange(len(P2)), P2)\n",
    "plt.xlabel(\"Frequency Index\")\n",
    "plt.legend({\"Harmonic\", \"Noncommensurate\"})\n",
    "plt.xlim([0, 50])\n",
    "plt.show()"
   ]
  },
  {
   "cell_type": "markdown",
   "metadata": {
    "collapsed": true
   },
   "source": [
    "<h1>Summary</h1>\n",
    "\n",
    "<ul>\n",
    "<li>Signals can be transformed into geometric objects via embeddings</li>\n",
    "<li>Signal properties are captured by the geometry of the sliding window.  Periodicity corresponds to circularity, period length over window size corresponds to roundness, number of incommensurate frequencies corresponds to intrinsic dimension</li>\n",
    "<li>The window extent is one of the most important parameters for determining roundness</li>\n",
    "</ul>"
   ]
  },
  {
   "cell_type": "code",
   "execution_count": null,
   "metadata": {
    "collapsed": true
   },
   "outputs": [],
   "source": []
  }
 ],
 "metadata": {
  "kernelspec": {
   "display_name": "Python 3",
   "language": "python",
   "name": "python3"
  },
  "language_info": {
   "codemirror_mode": {
    "name": "ipython",
    "version": 3
   },
   "file_extension": ".py",
   "mimetype": "text/x-python",
   "name": "python",
   "nbconvert_exporter": "python",
   "pygments_lexer": "ipython3",
   "version": "3.5.3+"
  }
 },
 "nbformat": 4,
 "nbformat_minor": 0
}
