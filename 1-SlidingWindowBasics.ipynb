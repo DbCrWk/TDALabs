{
 "cells": [
  {
   "cell_type": "code",
   "execution_count": 1,
   "metadata": {
    "collapsed": true
   },
   "outputs": [],
   "source": [
    "#Do all of the imports and setup inline plotting\n",
    "%matplotlib notebook\n",
    "import numpy as np\n",
    "import matplotlib.pyplot as plt\n",
    "from sklearn.decomposition import PCA\n",
    "from mpl_toolkits.mplot3d import Axes3D\n",
    "\n",
    "from TDA import *"
   ]
  },
  {
   "cell_type": "markdown",
   "metadata": {},
   "source": [
    "<h1>Sliding Window Code</h1>"
   ]
  },
  {
   "cell_type": "code",
   "execution_count": 16,
   "metadata": {
    "collapsed": true
   },
   "outputs": [],
   "source": []
  },
  {
   "cell_type": "markdown",
   "metadata": {},
   "source": [
    "<h1>Pure Sinusoid Sliding Window</h1>\n",
    "In the code below, alter the sliding window size, and examine how the geometry changes"
   ]
  },
  {
   "cell_type": "code",
   "execution_count": 3,
   "metadata": {
    "collapsed": false,
    "scrolled": false
   },
   "outputs": [],
   "source": [
    "#Step 1: Setup the signal\n",
    "T = 400 #The period in number of samples\n",
    "NPeriods = 10 #How many periods to go through\n",
    "N = T*NPeriods #The total number of samples\n",
    "t = np.linspace(0, 2*np.pi*NPeriods, N+1)[0:N] #Sampling indices in time\n",
    "x = np.cos(t) #The final signal\n",
    "#TODO: Separate signal plot\n",
    "#lt.plot(x)\n",
    "plt.show()\n"
   ]
  },
  {
   "cell_type": "code",
   "execution_count": 5,
   "metadata": {
    "collapsed": false
   },
   "outputs": [],
   "source": [
    "def getSlidingWindow(x, dim, Tau):\n",
    "    N = len(x)\n",
    "    NWindows = N-dim+1\n",
    "    X = np.zeros((NWindows, dim))\n",
    "    maxIndex = 0\n",
    "    for i in range(NWindows):\n",
    "        if len(x[i:i+Tau*dim:Tau]) < dim:\n",
    "            #If the window goes out of bounds, simply break\n",
    "            #and discard those windows\n",
    "            break\n",
    "        X[i, :] = x[i:i+Tau*dim:Tau]\n",
    "        maxIndex += 1\n",
    "    return X[0:maxIndex, :]\n",
    "\n",
    "#Step 2: Do a sliding window embedding\n",
    "dim = 2\n",
    "Tau = 100\n",
    "X = getSlidingWindow(x, dim, Tau)\n",
    "\n",
    "#Step 3: Perform PCA down to 2D for visualization\n",
    "pca = PCA(n_components = 2)\n",
    "Y = pca.fit_transform(X)\n",
    "eigs = pca.explained_variance_\n",
    "print(\"lambda1 = %g, lambda2 = %g\"%(eigs[0], eigs[1]))\n",
    "\n",
    "#Step 4: Plot original signal and PCA of the embedding\n",
    "plt.figure(figsize=(12, 6))\n",
    "ax = plt.subplot(121)\n",
    "ax.plot(t, x)\n",
    "ax.set_ylim((-2, 2))\n",
    "ax.set_title(\"Original Signal\")\n",
    "ax.set_xlabel(\"Phase\")\n",
    "ax2 = plt.subplot(122)\n",
    "ax2.set_title(\"PCA of Sliding Window Embedding\")\n",
    "ax2.scatter(Y[:, 0], Y[:, 1])\n",
    "ax2.set_aspect('equal', 'datalim')\n",
    "plt.show()"
   ]
  },
  {
   "cell_type": "code",
   "execution_count": 4,
   "metadata": {
    "collapsed": true
   },
   "outputs": [],
   "source": [
    "from IPython import display\n",
    "display.clear_output()"
   ]
  },
  {
   "cell_type": "markdown",
   "metadata": {
    "collapsed": true
   },
   "source": [
    "<h1>2 Sines Commensurate</h1>"
   ]
  },
  {
   "cell_type": "code",
   "execution_count": 6,
   "metadata": {
    "collapsed": false
   },
   "outputs": [],
   "source": [
    "#Step 1: Setup the signal\n",
    "T1 = 300 #The period of the first sine in number of samples\n",
    "T2 = 100\n",
    "NPeriods = 10 #How many periods to go through, relative to the first sinusoid\n",
    "N = T1*NPeriods #The total number of samples\n",
    "t = np.arange(N) #Time indices\n",
    "x = np.cos(2*np.pi*(1.0/T1)*t) #The first sinusoid\n",
    "x += np.cos(2*np.pi*(1.0/T2)*t) #The second sinusoid\n",
    "#TODO: Separate signal plot\n",
    "plt.figure()\n",
    "plt.plot(x)\n",
    "plt.show()"
   ]
  },
  {
   "cell_type": "code",
   "execution_count": 7,
   "metadata": {
    "collapsed": false,
    "scrolled": true
   },
   "outputs": [],
   "source": [
    "#Step 2: Do a sliding window embedding\n",
    "dim = 30\n",
    "Tau = 10\n",
    "X = getSlidingWindow(x, dim, Tau)\n",
    "\n",
    "#Step 3: Perform PCA down to 2D for visualization\n",
    "pca = PCA(n_components = 10)\n",
    "Y = pca.fit_transform(X)\n",
    "eigs = pca.explained_variance_\n",
    "print(\"lambda1 = %g, lambda2 = %g\"%(eigs[0], eigs[1]))\n",
    "\n",
    "#Step 4: Plot original signal and PCA of the embedding\n",
    "fig = plt.figure(figsize=(12, 6))\n",
    "ax = fig.add_subplot(121)\n",
    "ax.plot(t, x)\n",
    "ax.set_ylim((-2, 2))\n",
    "ax.set_title(\"Original Signal\")\n",
    "ax.set_xlabel(\"Phase\")\n",
    "\n",
    "c = plt.get_cmap('jet')\n",
    "C = c(np.array(np.round(np.linspace(0, 255, Y.shape[0])), dtype=np.int64))\n",
    "C = C[:, 0:3]\n",
    "ax2 = fig.add_subplot(122, projection = '3d')\n",
    "ax2.set_title(\"PCA of Sliding Window Embedding\")\n",
    "ax2.scatter(Y[:, 0], Y[:, 1], Y[:, 2], c=C)\n",
    "ax2.set_aspect('equal', 'datalim')\n",
    "plt.show()"
   ]
  },
  {
   "cell_type": "code",
   "execution_count": null,
   "metadata": {
    "collapsed": true
   },
   "outputs": [],
   "source": []
  }
 ],
 "metadata": {
  "kernelspec": {
   "display_name": "Python 3",
   "language": "python",
   "name": "python3"
  },
  "language_info": {
   "codemirror_mode": {
    "name": "ipython",
    "version": 3
   },
   "file_extension": ".py",
   "mimetype": "text/x-python",
   "name": "python",
   "nbconvert_exporter": "python",
   "pygments_lexer": "ipython3",
   "version": "3.5.1"
  }
 },
 "nbformat": 4,
 "nbformat_minor": 0
}
