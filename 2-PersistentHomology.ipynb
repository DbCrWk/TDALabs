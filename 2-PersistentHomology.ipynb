{
 "cells": [
  {
   "cell_type": "markdown",
   "metadata": {},
   "source": [
    "<h1>Persistent Homology of Sliding Windows</h1><BR>\n",
    "Now that we have heuristically explored the geometry of sliding window embeddings of 1D signals, we will apply tools from persistent homology to quantify the geometry.  As before, we first need to import all necessary libraries and setup code to compute sliding window embeddings"
   ]
  },
  {
   "cell_type": "code",
   "execution_count": 1,
   "metadata": {
    "collapsed": true
   },
   "outputs": [],
   "source": [
    "##Do all of the imports and setup inline plotting\n",
    "%matplotlib notebook\n",
    "import numpy as np\n",
    "import matplotlib.pyplot as plt\n",
    "from sklearn.decomposition import PCA\n",
    "from mpl_toolkits.mplot3d import Axes3D\n",
    "import scipy.interpolate as interp\n",
    "\n",
    "from TDA import *\n",
    "\n",
    "##Setup the sliding window code\n",
    "def getSlidingWindow(x, dim, Tau, dT):\n",
    "    N = len(x)\n",
    "    NWindows = int(np.floor((N-dim*Tau)/dT)) #The number of windows\n",
    "    if NWindows <= 0:\n",
    "        print(\"Error: Tau too large for signal extent\")\n",
    "        return np.zeros((3, dim))\n",
    "    X = np.zeros((NWindows, dim)) #Create a 2D array which will store all windows\n",
    "    idx = np.arange(N)\n",
    "    for i in range(NWindows):\n",
    "        #Figure out the indices of the samples in this window\n",
    "        idxx = dT*i + Tau*np.arange(dim) \n",
    "        start = int(np.floor(idxx[0]))\n",
    "        end = int(np.ceil(idxx[-1]))+2\n",
    "        if end >= len(x):\n",
    "            X = X[0:i, :]\n",
    "            break\n",
    "        #Do spline interpolation to fill in this window, and place\n",
    "        #it in the resulting array\n",
    "        X[i, :] = interp.spline(idx[start:end+1], x[start:end+1], idxx)\n",
    "    return X"
   ]
  },
  {
   "cell_type": "markdown",
   "metadata": {},
   "source": [
    "<h1>Single Sine: Maximum Persistence vs Window Size</h1><BR>\n",
    "\n",
    "First, let's examine the 1D persistent homology of the sliding window embedding of a single perfect sinusoid.  Choose dim and Tau to change the extent (window size) to different values, and examine how the maximum persistence changes.  How does this support what you saw in the first module?"
   ]
  },
  {
   "cell_type": "code",
   "execution_count": 29,
   "metadata": {
    "collapsed": false
   },
   "outputs": [],
   "source": [
    "#Step 1: Setup the signal\n",
    "T = 40 #The period in number of samples\n",
    "NPeriods = 4 #How many periods to go through\n",
    "N = T*NPeriods #The total number of samples\n",
    "t = np.linspace(0, 2*np.pi*NPeriods, N+1)[0:N] #Sampling indices in time\n",
    "x = np.cos(t) #The final signal\n",
    "\n",
    "#Step 2: Do a sliding window embedding\n",
    "dim = 20\n",
    "Tau = 1\n",
    "dT = 0.5\n",
    "X = getSlidingWindow(x, dim, Tau, dT)\n",
    "extent = Tau*dim\n",
    "\n",
    "#Step 3: Do Rips Filtration\n",
    "PDs = doRipsFiltration(X, 1)\n",
    "\n",
    "#Step 4: Perform PCA down to 2D for visualization\n",
    "pca = PCA(n_components = 2)\n",
    "Y = pca.fit_transform(X)\n",
    "eigs = pca.explained_variance_\n",
    "\n",
    "#Step 5: Plot original signal and the persistence diagram\n",
    "fig = plt.figure(figsize=(12, 6))\n",
    "ax = plt.subplot(121)\n",
    "ax.plot(x)\n",
    "ax.set_ylim((-2, 2))\n",
    "ax.set_title(\"Original Signal\")\n",
    "ax.set_xlabel(\"Sample Number\")\n",
    "ax.hold(True)\n",
    "ax.plot([extent, extent], [np.min(x), np.max(x)], 'r')\n",
    "\n",
    "ax2 = fig.add_subplot(122)\n",
    "I = PDs[1]\n",
    "plotDGM(I)\n",
    "plt.title(\"Max Persistence = %.3g\"%np.max(I[:, 1] - I[:, 0]))\n",
    "plt.show()"
   ]
  },
  {
   "cell_type": "markdown",
   "metadata": {},
   "source": [
    "<h1>2 Sines</h1><BR>\n",
    "\n",
    "Now let's examine the persistent homology of two sinusoids.  First, setup and examine the signal.  We will use a slightly coarser sampling rate than we did in the first module to keep the persistent homology code running quickly."
   ]
  },
  {
   "cell_type": "code",
   "execution_count": 30,
   "metadata": {
    "collapsed": false
   },
   "outputs": [],
   "source": [
    "#Step 1: Setup the signal\n",
    "T1 = 10 #The period of the first sine in number of samples\n",
    "T2 = T1*3 #The period of the second sine in number of samples\n",
    "NPeriods = 7 #How many periods to go through, relative to the second sinusoid\n",
    "N = T2*NPeriods #The total number of samples\n",
    "t = np.arange(N) #Time indices\n",
    "x = np.cos(2*np.pi*(1.0/T1)*t) #The first sinusoid\n",
    "x += np.cos(2*np.pi*(1.0/T2)*t) #The second sinusoid\n",
    "plt.figure()\n",
    "plt.plot(x)\n",
    "plt.show()"
   ]
  },
  {
   "cell_type": "markdown",
   "metadata": {},
   "source": [
    "<h3>Persistent Homology</h3>\n",
    "Now, compute persistent homology of the above signal after a sliding window embedding.  Run this code with both harmonic sinusoids and noncommensurate sinusoids, and note the difference in the persistence diagrams.  How are the persistence diagrams expressing your observation about non-commensurate sinusoids filling out the surface of a torus in the noncommensurate case?"
   ]
  },
  {
   "cell_type": "code",
   "execution_count": 32,
   "metadata": {
    "collapsed": false
   },
   "outputs": [],
   "source": [
    "#Step 2: Do a sliding window embedding\n",
    "dim = 10\n",
    "Tau = 3\n",
    "dT = 0.5\n",
    "X = getSlidingWindow(x, dim, Tau, dT)\n",
    "extent = Tau*dim\n",
    "\n",
    "#Step 3: Do Rips Filtration\n",
    "PDs = doRipsFiltration(X, 1)\n",
    "\n",
    "#Step 4: Perform PCA down to 2D for visualization\n",
    "pca = PCA()\n",
    "Y = pca.fit_transform(X)\n",
    "eigs = pca.explained_variance_\n",
    "\n",
    "#Step 5: Plot original signal and the persistence diagram\n",
    "fig = plt.figure(figsize=(12, 12))\n",
    "ax = fig.add_subplot(221)\n",
    "ax.plot(x)\n",
    "ax.set_ylim((-2, 2))\n",
    "ax.set_title(\"Original Signal\")\n",
    "ax.set_xlabel(\"Sample Number\")\n",
    "ax.hold(True)\n",
    "ax.plot([extent, extent], [np.min(x), np.max(x)], 'r')\n",
    "\n",
    "ax2 = fig.add_subplot(222)\n",
    "plotDGM(PDs[1])\n",
    "ax2.set_title(\"Persistence Diagram\")\n",
    "\n",
    "ax3 = plt.subplot(223)\n",
    "eigs = eigs[0:min(len(eigs), 10)]\n",
    "ax3.bar(np.arange(len(eigs)), eigs)\n",
    "ax3.set_xlabel(\"Eigenvalue Number\")\n",
    "ax3.set_ylabel(\"Eigenvalue\")\n",
    "ax3.set_title(\"PCA Eigenvalues\")\n",
    "\n",
    "c = plt.get_cmap('jet')\n",
    "C = c(np.array(np.round(np.linspace(0, 255, Y.shape[0])), dtype=np.int64))\n",
    "C = C[:, 0:3]\n",
    "ax4 = fig.add_subplot(224, projection = '3d')\n",
    "ax4.set_title(\"PCA of Sliding Window Embedding\")\n",
    "ax4.scatter(Y[:, 0], Y[:, 1], Y[:, 2], c=C)\n",
    "ax4.set_aspect('equal', 'datalim')\n",
    "\n",
    "plt.show()"
   ]
  },
  {
   "cell_type": "markdown",
   "metadata": {
    "collapsed": true
   },
   "source": [
    "<h1>Field of Coefficients</h1><BR>\n",
    "\n",
    "Now we will examine a surprising geometric property that is able to tell apart two signals which look quite similar.  First, we generate and plot the two signals below:\n",
    "\n",
    "$$g_1 = 0.6\\cos(t) + 0.8\\cos(2t)$$\n",
    "\n",
    "$$g_2 = 0.8\\cos(t) + 0.6\\cos(2t)$$"
   ]
  },
  {
   "cell_type": "code",
   "execution_count": 33,
   "metadata": {
    "collapsed": false,
    "scrolled": true
   },
   "outputs": [],
   "source": [
    "#Step 1: Setup the signal\n",
    "T1 = 100 #The period of the first sine in number of samples\n",
    "T2 = 50\n",
    "NPeriods = 10 #How many periods to go through, relative to the first sinusoid\n",
    "N = T1*NPeriods #The total number of samples\n",
    "t = np.arange(N) #Time indices\n",
    "coeff1 = 0.6\n",
    "coeff2 = 0.8\n",
    "g1 = coeff1*np.cos(2*np.pi*(1.0/T1)*t) #The first sinusoid\n",
    "g1 += coeff2*np.cos(2*np.pi*(1.0/T2)*t) #The second sinusoid\n",
    "\n",
    "g2 = coeff2*np.cos(2*np.pi*(1.0/T1)*t) #The first sinusoid\n",
    "g2 += coeff1*np.cos(2*np.pi*(1.0/T2)*t) #The second sinusoid\n",
    "\n",
    "fig = plt.figure(figsize=(12, 6))\n",
    "plt.subplot(211)\n",
    "plt.plot(g1)\n",
    "plt.title(\"g1 = %.2gcos(t) + %.2gcos(2t)\"%(coeff1, coeff2))\n",
    "plt.subplot(212)\n",
    "plt.plot(g2)\n",
    "plt.title(\"g2 = %.2gcos(t) + %.2gcos(2t)\"%(coeff2, coeff1))\n",
    "plt.show()"
   ]
  },
  {
   "cell_type": "markdown",
   "metadata": {},
   "source": [
    "<BR><BR>\n",
    "\n",
    "Now, we will look at PCA of the sliding window embeddings of the two signals\n",
    "\n",
    "<BR><BR>"
   ]
  },
  {
   "cell_type": "code",
   "execution_count": 34,
   "metadata": {
    "collapsed": false
   },
   "outputs": [],
   "source": [
    "####g1\n",
    "#Step 2: Do a sliding window embedding\n",
    "dim = 20\n",
    "Tau = 5\n",
    "X = getSlidingWindow(g1, dim, Tau, 1)\n",
    "\n",
    "#Step 3: Perform PCA down to 2D for visualization\n",
    "pca = PCA()\n",
    "Y = pca.fit_transform(X)\n",
    "eigs = pca.explained_variance_\n",
    "\n",
    "c = plt.get_cmap('jet')\n",
    "C = c(np.array(np.round(np.linspace(0, 255, Y.shape[0])), dtype=np.int64))\n",
    "C = C[:, 0:3]\n",
    "\n",
    "#Step 4: Plot original signal and PCA of the embedding\n",
    "fig = plt.figure(figsize=(12, 12))\n",
    "ax = fig.add_subplot(221)\n",
    "ax.plot(g1)\n",
    "ax.set_title(\"Original Signal\")\n",
    "ax.set_xlabel(\"Sample Index\")\n",
    "\n",
    "ax2 = fig.add_subplot(222, projection = '3d')\n",
    "ax2.set_title(\"g1 = %.2gcos(t) + %.2gcos(2t)\"%(coeff1, coeff2))\n",
    "ax2.scatter(Y[:, 0], Y[:, 1], Y[:, 2], c=C)\n",
    "ax2.set_aspect('equal', 'datalim')\n",
    "\n",
    "#####g2\n",
    "X = getSlidingWindow(g2, dim, Tau, 1)\n",
    "#Perform PCA down to 2D for visualization\n",
    "pca = PCA()\n",
    "Y = pca.fit_transform(X)\n",
    "eigs = pca.explained_variance_\n",
    "\n",
    "ax = fig.add_subplot(223)\n",
    "ax.plot(x)\n",
    "ax.set_title(\"Original Signal\")\n",
    "ax.set_xlabel(\"Sample Index\")\n",
    "\n",
    "ax2 = fig.add_subplot(224, projection = '3d')\n",
    "ax2.set_title(\"g2 = %.2gcos(t) + %.2gcos(2t)\"%(coeff2, coeff1))\n",
    "ax2.scatter(Y[:, 0], Y[:, 1], Y[:, 2], c=C)\n",
    "ax2.set_aspect('equal', 'datalim')\n",
    "\n",
    "plt.show()"
   ]
  },
  {
   "cell_type": "markdown",
   "metadata": {},
   "source": [
    "<h2>Persistent Homology Computation</h2><BR>\n",
    "As can be seen in the corresponding persistence diagrams below, g<SUB>1</SUB>(t) changes when Z mod 3 coefficients are used, while g<SUB>2</SUB>(t) stays the same.  This is because g<SUB>1</SUB>(t) is the boundary of a moebius strip.\n",
    "<img src = \"FieldCoefficients.png\">"
   ]
  },
  {
   "cell_type": "markdown",
   "metadata": {},
   "source": [
    "<h1>Summary</h1>\n",
    "<ul>\n",
    "<li>Persistence diagrams are a summary for the geometry/topology of the sliding window embedding</li>\n",
    "<li>Maximum persistence is maximized when window size is close to period</li>\n",
    "<li>Surprisingly, the maximum persistence of signals with harmonics depends on the field of coefficients</li>\n",
    "</ul>"
   ]
  },
  {
   "cell_type": "code",
   "execution_count": null,
   "metadata": {
    "collapsed": true
   },
   "outputs": [],
   "source": []
  }
 ],
 "metadata": {
  "kernelspec": {
   "display_name": "Python 3",
   "language": "python",
   "name": "python3"
  },
  "language_info": {
   "codemirror_mode": {
    "name": "ipython",
    "version": 3
   },
   "file_extension": ".py",
   "mimetype": "text/x-python",
   "name": "python",
   "nbconvert_exporter": "python",
   "pygments_lexer": "ipython3",
   "version": "3.5.1"
  }
 },
 "nbformat": 4,
 "nbformat_minor": 0
}
