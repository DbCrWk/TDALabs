{
 "cells": [
  {
   "cell_type": "code",
   "execution_count": 2,
   "metadata": {
    "collapsed": true
   },
   "outputs": [],
   "source": [
    "#Do all of the imports and setup inline plotting\n",
    "%matplotlib notebook\n",
    "import numpy as np\n",
    "import matplotlib.pyplot as plt\n",
    "from sklearn.decomposition import PCA\n",
    "from mpl_toolkits.mplot3d import Axes3D\n",
    "\n",
    "from TDA import *\n",
    "\n",
    "def getSlidingWindow(x, dim, Tau):\n",
    "    N = len(x)\n",
    "    NWindows = N-dim+1\n",
    "    X = np.zeros((NWindows, dim))\n",
    "    maxIndex = 0\n",
    "    for i in range(NWindows):\n",
    "        if len(x[i:i+Tau*dim:Tau]) < dim:\n",
    "            #If the window goes out of bounds, simply break\n",
    "            #and discard those windows\n",
    "            break\n",
    "        X[i, :] = x[i:i+Tau*dim:Tau]\n",
    "        maxIndex += 1\n",
    "    return X[0:maxIndex, :]"
   ]
  },
  {
   "cell_type": "code",
   "execution_count": 3,
   "metadata": {
    "collapsed": false
   },
   "outputs": [],
   "source": [
    "#Step 1: Setup the signal\n",
    "T1 = 30 #The period of the first sine in number of samples\n",
    "T2 = T1/np.pi\n",
    "NPeriods = 10 #How many periods to go through, relative to the first sinusoid\n",
    "N = T1*NPeriods #The total number of samples\n",
    "t = np.arange(N) #Time indices\n",
    "x = np.cos(2*np.pi*(1.0/T1)*t) #The first sinusoid\n",
    "x += np.cos(2*np.pi*(1.0/T2)*t) #The second sinusoid\n",
    "#TODO: Separate signal plot\n",
    "plt.figure()\n",
    "plt.plot(x)\n",
    "plt.show()"
   ]
  },
  {
   "cell_type": "code",
   "execution_count": 6,
   "metadata": {
    "collapsed": false
   },
   "outputs": [
    {
     "name": "stdout",
     "output_type": "stream",
     "text": [
      "37950 / 37950 possible edges added (100%)\n"
     ]
    }
   ],
   "source": [
    "#Step 2: Do a sliding window embedding\n",
    "dim = 5\n",
    "Tau = 6\n",
    "X = getSlidingWindow(x, dim, Tau)\n",
    "\n",
    "#Step 2.5: Do Rips Filtration\n",
    "PDs = doRipsFiltration(X, 1)\n",
    "\n",
    "#Step 3: Perform PCA down to 2D for visualization\n",
    "pca = PCA(n_components = 4)\n",
    "Y = pca.fit_transform(X)\n",
    "eigs = pca.explained_variance_\n",
    "print(\"lambda1 = %g, lambda2 = %g\"%(eigs[0], eigs[1]))\n",
    "\n",
    "#Step 4: Plot original signal and the persistence diagram\n",
    "fig = plt.figure(figsize=(12, 6))\n",
    "ax = fig.add_subplot(121)\n",
    "ax.plot(t, x)\n",
    "ax.set_ylim((-2, 2))\n",
    "ax.set_title(\"Original Signal\")\n",
    "ax.set_xlabel(\"Phase\")\n",
    "\n",
    "ax2 = fig.add_subplot(122)\n",
    "plotDGM(PDs[1])\n",
    "plt.show()"
   ]
  },
  {
   "cell_type": "code",
   "execution_count": null,
   "metadata": {
    "collapsed": true
   },
   "outputs": [],
   "source": []
  }
 ],
 "metadata": {
  "kernelspec": {
   "display_name": "Python 3",
   "language": "python",
   "name": "python3"
  },
  "language_info": {
   "codemirror_mode": {
    "name": "ipython",
    "version": 3
   },
   "file_extension": ".py",
   "mimetype": "text/x-python",
   "name": "python",
   "nbconvert_exporter": "python",
   "pygments_lexer": "ipython3",
   "version": "3.5.1"
  }
 },
 "nbformat": 4,
 "nbformat_minor": 0
}
