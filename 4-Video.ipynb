{
 "cells": [
  {
   "cell_type": "markdown",
   "metadata": {},
   "source": [
    "<h1>Video Sliding Windows</h1>\n",
    "\n",
    "<p>\n",
    "So far we restricted ourselves to 1D time series, but the idea of recovering periodic dynamics with geometry can just as easily apply to multivariate signals.  In this module, we will examine sliding windows of videos as an exmaple.  Many natural videos also have periodicity, such as this video of a woman doing jumping jacks\n",
    "</p>\n",
    "\n",
    "[Jumping jacks video]\n",
    "\n",
    "<p>\n",
    "Video can be decomposed into a 3D array, which has dimensions width x height x time.  To tease out periodicity in geometric form, we will do the exact same thing as with sliding window 1D signal embeddings, but instead of just one sample per time shift, we need to take every pixel in every frame in the time window.  The figure below depicts this\n",
    "</p>\n",
    "\n",
    "<img src = \"VideoStackTime.svg\"><BR><BR>\n",
    "\n",
    "To see this visually in the video next to PCA of the embedding, look at the following video\n",
    "\n",
    "[Jumping jacks sliding window PCA video]\n",
    "\n",
    "*Make a remark about practical issues with delay embeddings of videos; need PCA\n"
   ]
  },
  {
   "cell_type": "code",
   "execution_count": null,
   "metadata": {
    "collapsed": true
   },
   "outputs": [],
   "source": [
    "#Given that the period is 30 frames per cycle, choose a dimension and a Tau that capture \n",
    "#this motion in the roundest possible way\n",
    "#Plot persistence diagram and PCA"
   ]
  }
 ],
 "metadata": {
  "kernelspec": {
   "display_name": "Python 3",
   "language": "python",
   "name": "python3"
  },
  "language_info": {
   "codemirror_mode": {
    "name": "ipython",
    "version": 3
   },
   "file_extension": ".py",
   "mimetype": "text/x-python",
   "name": "python",
   "nbconvert_exporter": "python",
   "pygments_lexer": "ipython3",
   "version": "3.5.1"
  }
 },
 "nbformat": 4,
 "nbformat_minor": 0
}
