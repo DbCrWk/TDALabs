{
 "cells": [
  {
   "cell_type": "markdown",
   "metadata": {},
   "source": [
    "<h1>Video Sliding Windows</h1>\n",
    "\n",
    "<p>\n",
    "So far we restricted ourselves to 1D time series, but the idea of recovering periodic dynamics with geometry can just as easily apply to multivariate signals.  In this module, we will examine sliding windows of videos as an exmaple.  Many natural videos also have periodicity, such as this video of a woman doing jumping jacks\n",
    "</p>\n",
    "\n",
    "<video controls>\n",
    "  <source src=\"jumpingjacks.ogg\" type=\"video/ogg\">\n",
    "Your browser does not support the video tag.\n",
    "</video>\n",
    "\n",
    "<p>\n",
    "Video can be decomposed into a 3D array, which has dimensions width x height x time.  To tease out periodicity in geometric form, we will do the exact same thing as with sliding window 1D signal embeddings, but instead of just one sample per time shift, we need to take every pixel in every frame in the time window.  The figure below depicts this\n",
    "</p>\n",
    "\n",
    "<img src = \"VideoStackTime.svg\"><BR><BR>\n",
    "\n",
    "To see this visually in the video next to PCA of the embedding, look at the following video\n",
    "\n",
    "[Jumping jacks sliding window PCA video]\n",
    "\n",
    "*Make a remark about practical issues with delay embeddings of videos; need PCA\n"
   ]
  },
  {
   "cell_type": "code",
   "execution_count": 1,
   "metadata": {
    "collapsed": true
   },
   "outputs": [],
   "source": [
    "#Do all of the imports and setup inline plotting\n",
    "%matplotlib notebook\n",
    "import numpy as np\n",
    "import matplotlib.pyplot as plt\n",
    "from sklearn.decomposition import PCA\n",
    "from mpl_toolkits.mplot3d import Axes3D\n",
    "\n",
    "from TDA import *\n",
    "from VideoTools import *"
   ]
  },
  {
   "cell_type": "code",
   "execution_count": null,
   "metadata": {
    "collapsed": true
   },
   "outputs": [],
   "source": [
    "def getSlidingWindowVideo(x, dim, Tau):\n",
    "    N = x.shape[0]\n",
    "    NPixels = x.shape[1]\n",
    "    NWindows = N-dim+1\n",
    "    X = np.zeros((NWindows, dim*NPixels))\n",
    "    maxIndex = 0\n",
    "    for i in range(NWindows):\n",
    "        #Pull out all of the frames in this time window\n",
    "        frames = x[i:i+Tau*dim:Tau, :]\n",
    "        if frames.size < dim*NPixels:\n",
    "            break\n",
    "        X[i, :] = frames.flatten()\n",
    "        maxIndex += 1\n",
    "    return X[0:maxIndex, :]"
   ]
  },
  {
   "cell_type": "code",
   "execution_count": null,
   "metadata": {
    "collapsed": true
   },
   "outputs": [],
   "source": [
    "#Load in video and do PCA to compress dimension\n",
    "#(X, FrameDims) = loadVideo(\"KTH/boxing/person01_boxing_d1_uncomp.avi\")\n",
    "(X, FrameDims) = loadVideo(\"jumpingjacks.ogg\")\n",
    "X = getPCAVideo(X)"
   ]
  },
  {
   "cell_type": "code",
   "execution_count": null,
   "metadata": {
    "collapsed": true
   },
   "outputs": [],
   "source": [
    "#Parameters\n",
    "dim = 12\n",
    "Tau = 1\n",
    "\n",
    "#Get sliding window video\n",
    "XS = getSlidingWindowVideo(x, dim, Tau)\n",
    "\n",
    "#Get persistence diagrams\n",
    "PDs = doRipsFiltration(XS, 1)\n",
    "\n",
    "pca = PCA(n_components = 2)\n",
    "Y = pca.fit_transform(X)\n",
    "\n",
    "plt.figure(figsize=(12, 6))\n",
    "ax = plt.subplot(121)\n",
    "ax.plot(t, x)\n",
    "ax.set_ylim((-2, 2))\n",
    "ax.set_title(\"Original Signal\")\n",
    "ax.set_xlabel(\"Phase\")\n",
    "ax2 = plt.subplot(122)\n",
    "ax2.set_title(\"PCA of Sliding Window Embedding\")\n",
    "ax2.scatter(Y[:, 0], Y[:, 1])\n",
    "ax2.set_aspect('equal', 'datalim')\n",
    "plt.show()"
   ]
  },
  {
   "cell_type": "code",
   "execution_count": null,
   "metadata": {
    "collapsed": true
   },
   "outputs": [],
   "source": [
    "#Given that the period is 30 frames per cycle, choose a dimension and a Tau that capture \n",
    "#this motion in the roundest possible way\n",
    "#Plot persistence diagram and PCA"
   ]
  }
 ],
 "metadata": {
  "kernelspec": {
   "display_name": "Python 3",
   "language": "python",
   "name": "python3"
  },
  "language_info": {
   "codemirror_mode": {
    "name": "ipython",
    "version": 3
   },
   "file_extension": ".py",
   "mimetype": "text/x-python",
   "name": "python",
   "nbconvert_exporter": "python",
   "pygments_lexer": "ipython3",
   "version": "3.5.1"
  }
 },
 "nbformat": 4,
 "nbformat_minor": 0
}
