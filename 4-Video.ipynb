{
 "cells": [
  {
   "cell_type": "markdown",
   "metadata": {},
   "source": [
    "<h1>Video Sliding Windows</h1>\n",
    "\n",
    "<p>\n",
    "So far we restricted ourselves to 1D time series, but the idea of recovering periodic dynamics with geometry can just as easily apply to multivariate signals.  In this module, we will examine sliding windows of videos as an exmaple.  Many natural videos also have periodicity, such as this video of a woman doing jumping jacks\n",
    "</p>\n",
    "\n",
    "<video controls>\n",
    "  <source src=\"jumpingjacks.ogg\" type=\"video/ogg\">\n",
    "Your browser does not support the video tag.\n",
    "</video>\n",
    "\n",
    "<p>\n",
    "Video can be decomposed into a 3D array, which has dimensions width x height x time.  To tease out periodicity in geometric form, we will do the exact same thing as with sliding window 1D signal embeddings, but instead of just one sample per time shift, we need to take every pixel in every frame in the time window.  The figure below depicts this\n",
    "</p>\n",
    "\n",
    "<img src = \"VideoStackTime.svg\"><BR><BR>\n",
    "\n",
    "To see this visually in the video next to PCA of the embedding, look at the following video\n",
    "\n",
    "[Jumping jacks sliding window PCA video]\n",
    "\n",
    "*Make a remark about practical issues with delay embeddings of videos; need PCA\n"
   ]
  },
  {
   "cell_type": "code",
   "execution_count": 5,
   "metadata": {
    "collapsed": true
   },
   "outputs": [],
   "source": [
    "#Do all of the imports and setup inline plotting\n",
    "%matplotlib notebook\n",
    "import numpy as np\n",
    "import matplotlib.pyplot as plt\n",
    "from sklearn.decomposition import PCA\n",
    "from mpl_toolkits.mplot3d import Axes3D\n",
    "import scipy.interpolate\n",
    "\n",
    "from TDA import *\n",
    "from VideoTools import *"
   ]
  },
  {
   "cell_type": "code",
   "execution_count": null,
   "metadata": {
    "collapsed": true
   },
   "outputs": [],
   "source": [
    "def getPCAVideo(I):\n",
    "    ICov = I.dot(I.T)\n",
    "    [lam, V] = linalg.eigh(ICov)\n",
    "    V = V*np.sqrt(lam[None, :])\n",
    "    return V"
   ]
  },
  {
   "cell_type": "code",
   "execution_count": 6,
   "metadata": {
    "collapsed": true
   },
   "outputs": [],
   "source": [
    "def getSlidingWindowVideo(I, dim, Tau, dT):\n",
    "    N = I.shape[0] #Number of frames\n",
    "    P = I.shape[1] #Number of pixels (possibly after PCA)\n",
    "    pix = np.arange(P)\n",
    "    NWindows = int(np.floor((N-dim*Tau)/dT))\n",
    "    X = np.zeros((NWindows, dim*P))\n",
    "    idx = np.arange(N)\n",
    "    for i in range(NWindows):\n",
    "        idxx = dT*i + Tau*np.arange(dim)\n",
    "        start = int(np.floor(idxx[0]))\n",
    "        end = int(np.ceil(idxx[-1]))+2\n",
    "        if end >= len(x):\n",
    "            X = X[0:i, :]\n",
    "            break\n",
    "        f = scipy.interpolate.interp2d(pix, idx[start:end+1], I[idx[start:end+1], :], kind='linear')\n",
    "        X[i, :] = f(pix, idxx).flatten()\n",
    "    return X"
   ]
  },
  {
   "cell_type": "code",
   "execution_count": 4,
   "metadata": {
    "collapsed": false
   },
   "outputs": [],
   "source": [
    "#Load in video and do PCA to compress dimension\n",
    "(X, FrameDims) = loadVideo(\"jumpingjacks.ogg\")\n",
    "print(\"Doing PCA for dimensionality reduction...\")\n",
    "X = getPCAVideo(X)\n",
    "print(\"Finished PCA\")"
   ]
  },
  {
   "cell_type": "code",
   "execution_count": 3,
   "metadata": {
    "collapsed": false
   },
   "outputs": [],
   "source": [
    "#Given that the period is 30 frames per cycle, choose a dimension and a Tau that capture \n",
    "#this motion in the roundest possible way\n",
    "#Plot persistence diagram and PCA\n",
    "dim = 20\n",
    "Tau = 0.1\n",
    "dT = 1\n",
    "\n",
    "#Get sliding window video\n",
    "XS = getSlidingWindowVideo(X, dim, Tau, dT)\n",
    "\n",
    "#Mean-center and normalize sliding window\n",
    "XS = XS - np.mean(XS, 1)[:, None]\n",
    "XS = XS/np.sqrt(np.sum(XS**2, 1))[:, None]\n",
    "\n",
    "#Get persistence diagrams\n",
    "PDs = doRipsFiltration(XS, 1)\n",
    "\n",
    "#Do PCA for visualization\n",
    "pca = PCA(n_components = 3)\n",
    "Y = pca.fit_transform(XS)\n",
    "\n",
    "\n",
    "fig = plt.figure(figsize=(12, 6))\n",
    "ax1 = fig.add_subplot(121)\n",
    "plotDGMAx(ax1, PDs[1])\n",
    "ax1.set_title(\"1D Persistence Diagram\")\n",
    "\n",
    "c = plt.get_cmap('jet')\n",
    "C = c(np.array(np.round(np.linspace(0, 255, Y.shape[0])), dtype=np.int32))\n",
    "C = C[:, 0:3]\n",
    "ax2 = fig.add_subplot(122, projection = '3d')\n",
    "ax2.set_title(\"PCA of Sliding Window Embedding\")\n",
    "ax2.scatter(Y[:, 0], Y[:, 1], Y[:, 2], c=C)\n",
    "ax2.set_aspect('equal', 'datalim')\n",
    "plt.show()"
   ]
  },
  {
   "cell_type": "markdown",
   "metadata": {
    "collapsed": true
   },
   "source": [
    "<h1>Summary</h1>\n",
    "<ul>\n",
    "<li>Periodicity can be studied on general time series data, including multivariate time series such as video</li>\n",
    "</ul>"
   ]
  },
  {
   "cell_type": "code",
   "execution_count": null,
   "metadata": {
    "collapsed": true
   },
   "outputs": [],
   "source": []
  }
 ],
 "metadata": {
  "kernelspec": {
   "display_name": "Python 3",
   "language": "python",
   "name": "python3"
  },
  "language_info": {
   "codemirror_mode": {
    "name": "ipython",
    "version": 3
   },
   "file_extension": ".py",
   "mimetype": "text/x-python",
   "name": "python",
   "nbconvert_exporter": "python",
   "pygments_lexer": "ipython3",
   "version": "3.5.1"
  }
 },
 "nbformat": 4,
 "nbformat_minor": 0
}
