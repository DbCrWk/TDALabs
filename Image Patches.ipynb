{
 "cells": [
  {
   "cell_type": "markdown",
   "metadata": {},
   "source": [
    "# Image Patches\n",
    "\n",
    "In this module, you will explore the topology of different collections of image patches.  Each image patch is a square $d \\times d$ region of pixels.  Each pixel can be thought of as a dimension, so each patch lives in $\\mathbb{R}^{d \\times d}$, and a collection of patches can be thought of as a Euclidean point cloud in $\\mathbb{R}^{d \\times d}$\n",
    "\n",
    "First, we perform all of the necessary library imports.  "
   ]
  },
  {
   "cell_type": "code",
   "execution_count": null,
   "metadata": {},
   "outputs": [],
   "source": [
    "import numpy as np\n",
    "import matplotlib.pyplot as plt\n",
    "from mpl_toolkits.mplot3d import Axes3D\n",
    "from ripser import ripser, plot_dgms"
   ]
  },
  {
   "cell_type": "markdown",
   "metadata": {},
   "source": [
    "We now define a few functions which will help us to sample patches from an image and to plot a collection of patches"
   ]
  },
  {
   "cell_type": "code",
   "execution_count": null,
   "metadata": {},
   "outputs": [],
   "source": [
    "def plotPatches(P):\n",
    "    N = P.shape[0]\n",
    "    d = int(np.sqrt(P.shape[1]))\n",
    "    dgrid = int(np.ceil(np.sqrt(N)))\n",
    "    for i in range(N):\n",
    "        plt.subplot(dgrid, dgrid, i+1)\n",
    "        I = np.reshape(P[i, :], [d, d])\n",
    "        plt.imshow(I, interpolation = 'nearest', cmap = 'gray')\n",
    "        plt.axis('off')\n",
    "\n",
    "def getPatches(I, dim):\n",
    "    \"\"\"\n",
    "    Given an image I, return all of the dim x dim patches in I\n",
    "    :param I: An M x N image\n",
    "    :param d: The dimension of the square patches\n",
    "    :returns P: An (M-d+1)x(N-d+1)x(d^2) array of all patches\n",
    "    \"\"\"\n",
    "    #http://stackoverflow.com/questions/13682604/slicing-a-numpy-image-array-into-blocks\n",
    "    shape = np.array(I.shape*2)\n",
    "    strides = np.array(I.strides*2)\n",
    "    W = np.asarray(dim)\n",
    "    shape[I.ndim:] = W\n",
    "    shape[:I.ndim] -= W - 1\n",
    "    if np.any(shape < 1):\n",
    "        raise ValueError('Window size %i is too large for image'%dim)\n",
    "    P = np.lib.stride_tricks.as_strided(I, shape=shape, strides=strides)\n",
    "    P = np.reshape(P, [P.shape[0]*P.shape[1], dim*dim])\n",
    "    return P"
   ]
  },
  {
   "cell_type": "markdown",
   "metadata": {},
   "source": [
    "## Example 1: Patches On A Disc\n",
    "\n",
    "First, we start off by sampling patches from an image representing a disc\n",
    "\n"
   ]
  },
  {
   "cell_type": "code",
   "execution_count": null,
   "metadata": {},
   "outputs": [],
   "source": [
    "# First create an image of a disc\n",
    "res = 50\n",
    "R = res/2\n",
    "[I, J] = np.meshgrid(np.arange(res) ,np.arange(res))\n",
    "Im = ((I-R)**2 + (J-R)**2) < (0.5*R*R)\n",
    "Im = 1.0*Im\n",
    "plt.imshow(Im, interpolation='none', cmap='gray')\n",
    "plt.show()\n"
   ]
  },
  {
   "cell_type": "markdown",
   "metadata": {},
   "source": [
    "Now, sample all unique 5x5 patches from this image, for a collection of patches which lives in 25 dimensional Euclidean space"
   ]
  },
  {
   "cell_type": "code",
   "execution_count": null,
   "metadata": {},
   "outputs": [],
   "source": [
    "dim = 5\n",
    "P = getPatches(Im, dim)\n",
    "#Remove redundant patches to cut down on computation time\n",
    "toKeep = [0]\n",
    "XSqr = np.sum(P**2, 1)\n",
    "D = XSqr[:, None] + XSqr[None, :] - 2*P.dot(P.T)\n",
    "for i in range(1, D.shape[0]):\n",
    "    if np.sum(D[i, 0:i] == 0) > 0:\n",
    "        continue\n",
    "    toKeep.append(i)\n",
    "P = P[np.array(toKeep), :]\n",
    "print(P.shape)\n",
    "plotPatches(P)\n",
    "plt.show()"
   ]
  },
  {
   "cell_type": "markdown",
   "metadata": {},
   "source": [
    "Now, let's compute persistence diagrams up to H2 for this collection of patches\n",
    "\n",
    "* Based on the diagrams, what shape do the patches concentrate on?  Can you arrange the patches on that shape?"
   ]
  },
  {
   "cell_type": "code",
   "execution_count": null,
   "metadata": {},
   "outputs": [],
   "source": [
    "dgms = ripser(P, maxdim=2)['dgms']\n",
    "plot_dgms(dgms)\n",
    "plt.show()"
   ]
  },
  {
   "cell_type": "markdown",
   "metadata": {},
   "source": [
    "## Example 2: Oriented Line Segments\n",
    "\n",
    "We now examine the collection of patches which hold oriented, blurry line segments that are varying distances from the center of the patch.  First, let's start by setting up the patches.  Below, the \"dim\" variable sets the patch resolution, and the \"sigma\" variable sets the blurriness (a larger sigma means blurrier line segments). "
   ]
  },
  {
   "cell_type": "code",
   "execution_count": null,
   "metadata": {},
   "outputs": [],
   "source": [
    "dim = 10\n",
    "NAngles = 16\n",
    "NOffsets = 16\n",
    "sigma = 0.25\n",
    "\n",
    "N = NAngles*NOffsets\n",
    "P = np.zeros((N, dim*dim))\n",
    "thetas = np.linspace(0, np.pi, NAngles+1)[0:NAngles]\n",
    "#ps = np.linspace(-0.5*np.sqrt(2), 0.5*np.sqrt(2), NOffsets)\n",
    "ps = np.linspace(-1, 1, NOffsets)\n",
    "idx = 0\n",
    "[Y, X] = np.meshgrid(np.linspace(-0.5, 0.5, dim), np.linspace(-0.5, 0.5, dim))\n",
    "for i in range(NAngles):\n",
    "    c = np.cos(thetas[i])\n",
    "    s = np.sin(thetas[i])\n",
    "    for j in range(NOffsets):\n",
    "        patch = X*c + Y*s + ps[j]\n",
    "        patch = np.exp(-patch**2/sigma**2)\n",
    "        P[idx, :] = patch.flatten()\n",
    "        idx += 1\n",
    "plotPatches(P)\n",
    "plt.show()"
   ]
  },
  {
   "cell_type": "markdown",
   "metadata": {},
   "source": [
    "Now let's compute persistence diagrams for this collection of patches.  This time, we will compute with both $\\mathbb{Z}/2$ coefficients and $\\mathbb{Z}/3$ coefficients up to H2.\n",
    "\n",
    "* Based on the persistence diagrams, what shape do the patches appear to concentrate on?  Can you arrange the patches on this shape to explain why?\n",
    "* What happens to the persistence diagrams when you make sigma very small and the patches become sharper, or when you make sigma close to 1 and the patches become very blurry?  Can you explain what's happening geometrically?"
   ]
  },
  {
   "cell_type": "code",
   "execution_count": null,
   "metadata": {},
   "outputs": [],
   "source": [
    "dgmsz2 = ripser(P, coeff=2, maxdim=2)['dgms']\n",
    "dgmsz3 = ripser(P, coeff=3, maxdim=2)['dgms']\n",
    "plt.figure(figsize=(12, 6))\n",
    "plt.subplot(121)\n",
    "plot_dgms(dgmsz2)\n",
    "plt.title(\"$\\mathbb{Z}/2$\")\n",
    "plt.subplot(122)\n",
    "plot_dgms(dgmsz3)\n",
    "plt.title(\"$\\mathbb{Z}/3$\")\n",
    "plt.show()"
   ]
  },
  {
   "cell_type": "code",
   "execution_count": null,
   "metadata": {},
   "outputs": [],
   "source": []
  }
 ],
 "metadata": {
  "kernelspec": {
   "display_name": "Python 3",
   "language": "python",
   "name": "python3"
  },
  "language_info": {
   "codemirror_mode": {
    "name": "ipython",
    "version": 3
   },
   "file_extension": ".py",
   "mimetype": "text/x-python",
   "name": "python",
   "nbconvert_exporter": "python",
   "pygments_lexer": "ipython3",
   "version": "3.6.5"
  }
 },
 "nbformat": 4,
 "nbformat_minor": 2
}
